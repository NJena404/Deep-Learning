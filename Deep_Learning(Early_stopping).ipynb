{
  "nbformat": 4,
  "nbformat_minor": 0,
  "metadata": {
    "colab": {
      "name": "Deep Learning(Early stopping).ipynb",
      "provenance": [],
      "authorship_tag": "ABX9TyOxk7l4QfeMiJkt4m/lfxy6",
      "include_colab_link": true
    },
    "kernelspec": {
      "name": "python3",
      "display_name": "Python 3"
    },
    "language_info": {
      "name": "python"
    }
  },
  "cells": [
    {
      "cell_type": "markdown",
      "metadata": {
        "id": "view-in-github",
        "colab_type": "text"
      },
      "source": [
        "<a href=\"https://colab.research.google.com/github/NJena404/Deep-Learning/blob/main/Deep_Learning(Early_stopping).ipynb\" target=\"_parent\"><img src=\"https://colab.research.google.com/assets/colab-badge.svg\" alt=\"Open In Colab\"/></a>"
      ]
    },
    {
      "cell_type": "markdown",
      "source": [
        "# Early stopping"
      ],
      "metadata": {
        "id": "9spBYwy1GF9M"
      }
    },
    {
      "cell_type": "markdown",
      "source": [
        "**In machine learning, early stopping is a form of regularization used to avoid overfitting when training a learner with an iterative method, such as gradient descent. Such methods update the learner so as to make it better fit the training data with each iteration. Up to a point, this improves the learner's performance on data outside of the training set. Past that point, however, improving the learner's fit to the training data comes at the expense of increased generalization error. Early stopping rules provide guidance as to how many iterations can be run before the learner begins to over-fit.**"
      ],
      "metadata": {
        "id": "KFKSPE5YF9kU"
      }
    },
    {
      "cell_type": "code",
      "source": [
        "#Library import\n",
        "\n",
        "import tensorflow as tf\n",
        "import pandas as pd\n",
        "import numpy as np\n",
        "from pylab import rcParams\n",
        "import matplotlib.pyplot as plt\n",
        "import seaborn as sns\n",
        "import warnings\n",
        "from mlxtend.plotting import plot_decision_regions\n",
        "from matplotlib.colors import ListedColormap\n",
        "from tensorflow.keras.models import Sequential\n",
        "from tensorflow.keras.layers import Dropout\n",
        "from tensorflow.keras.layers import Dense\n",
        "from tensorflow.keras.callbacks import EarlyStopping\n",
        "from sklearn.model_selection import train_test_split\n",
        "from sklearn.datasets import make_circles"
      ],
      "metadata": {
        "id": "L0_xC9HqGNET"
      },
      "execution_count": 20,
      "outputs": []
    },
    {
      "cell_type": "code",
      "source": [
        "x,y=make_circles(n_samples=100,noise=.1,random_state=1)"
      ],
      "metadata": {
        "id": "7owqE1wwIUWb"
      },
      "execution_count": 21,
      "outputs": []
    },
    {
      "cell_type": "code",
      "source": [
        "sns.scatterplot(x[:,0],x[:,1],hue=y)"
      ],
      "metadata": {
        "colab": {
          "base_uri": "https://localhost:8080/",
          "height": 337
        },
        "id": "oR5Cmm7LI1ld",
        "outputId": "225eb341-f4e6-4f3a-d8c0-bca0f48a3089"
      },
      "execution_count": 22,
      "outputs": [
        {
          "output_type": "stream",
          "name": "stderr",
          "text": [
            "/usr/local/lib/python3.7/dist-packages/seaborn/_decorators.py:43: FutureWarning: Pass the following variables as keyword args: x, y. From version 0.12, the only valid positional argument will be `data`, and passing other arguments without an explicit keyword will result in an error or misinterpretation.\n",
            "  FutureWarning\n"
          ]
        },
        {
          "output_type": "execute_result",
          "data": {
            "text/plain": [
              "<matplotlib.axes._subplots.AxesSubplot at 0x7f39a8ad8b90>"
            ]
          },
          "metadata": {},
          "execution_count": 22
        },
        {
          "output_type": "display_data",
          "data": {
            "text/plain": [
              "<Figure size 432x288 with 1 Axes>"
            ],
            "image/png": "[encoded data removed]"
          },
          "metadata": {
            "needs_background": "light"
          }
        }
      ]
    },
    {
      "cell_type": "code",
      "source": [
        "x_train,x_test,y_train,y_test=train_test_split(x,y,test_size=.2,random_state=2)"
      ],
      "metadata": {
        "id": "0QpBbrzgJWUj"
      },
      "execution_count": 23,
      "outputs": []
    },
    {
      "cell_type": "code",
      "source": [
        "#Model building\n",
        "model=Sequential()\n",
        "model.add(Dense(256,input_dim=2,activation='relu'))\n",
        "model.add(Dense(1,activation='sigmoid'))"
      ],
      "metadata": {
        "id": "Bif4dVqXJqlL"
      },
      "execution_count": 24,
      "outputs": []
    },
    {
      "cell_type": "code",
      "source": [
        "model.compile(loss='binary_crossentropy',optimizer='adam',metrics=['accuracy'])"
      ],
      "metadata": {
        "id": "uh6TrkcvJq7i"
      },
      "execution_count": 25,
      "outputs": []
    },
    {
      "cell_type": "code",
      "source": [
        "history=model.fit(x_train,y_train,validation_data=(x_test,y_test), epochs=3500,verbose=0)"
      ],
      "metadata": {
        "id": "o0mZ5rpfKnsu"
      },
      "execution_count": 26,
      "outputs": []
    },
    {
      "cell_type": "code",
      "source": [
        "plt.plot(history.history['loss'], label='train')\n",
        "plt.plot(history.history['val_loss'], label='test')\n",
        "plt.legend()\n",
        "plt.show()"
      ],
      "metadata": {
        "colab": {
          "base_uri": "https://localhost:8080/",
          "height": 265
        },
        "id": "oLGvCW1_LGlh",
        "outputId": "d4ef62ba-5112-45ae-8ded-581d493eac63"
      },
      "execution_count": 27,
      "outputs": [
        {
          "output_type": "display_data",
          "data": {
            "text/plain": [
              "<Figure size 432x288 with 1 Axes>"
            ],
            "image/png": "[encoded data removed]"
          },
          "metadata": {
            "needs_background": "light"
          }
        }
      ]
    },
    {
      "cell_type": "code",
      "source": [
        "plot_decision_regions(x_test,y_test.ravel(),clf=model,legend=2)\n",
        "plt.show()"
      ],
      "metadata": {
        "colab": {
          "base_uri": "https://localhost:8080/",
          "height": 320
        },
        "id": "kf0E3xRwMRbz",
        "outputId": "c9bd9f00-3cb5-4eb0-8dc1-6768b6efafea"
      },
      "execution_count": 28,
      "outputs": [
        {
          "output_type": "stream",
          "name": "stderr",
          "text": [
            "/usr/local/lib/python3.7/dist-packages/mlxtend/plotting/decision_regions.py:244: MatplotlibDeprecationWarning: Passing unsupported keyword arguments to axis() will raise a TypeError in 3.3.\n",
            "  ax.axis(xmin=xx.min(), xmax=xx.max(), y_min=yy.min(), y_max=yy.max())\n"
          ]
        },
        {
          "output_type": "display_data",
          "data": {
            "text/plain": [
              "<Figure size 432x288 with 1 Axes>"
            ],
            "image/png": "[encoded data removed]"
          },
          "metadata": {
            "needs_background": "light"
          }
        }
      ]
    },
    {
      "cell_type": "markdown",
      "source": [
        "# Early stopping"
      ],
      "metadata": {
        "id": "7ThmS00QNBsw"
      }
    },
    {
      "cell_type": "code",
      "source": [
        "#Model building\n",
        "model=Sequential()\n",
        "model.add(Dense(256,input_dim=2,activation='relu'))\n",
        "model.add(Dense(1,activation='sigmoid'))\n",
        "model.compile(loss='binary_crossentropy',optimizer='adam',metrics=['accuracy'])"
      ],
      "metadata": {
        "id": "M2h-DJG1M5HK"
      },
      "execution_count": 29,
      "outputs": []
    },
    {
      "cell_type": "code",
      "source": [
        "callback=EarlyStopping(\n",
        "    monitor=\"val_loss\",\n",
        "    min_delta=0.00001,\n",
        "    patience=20,\n",
        "    verbose=0,\n",
        "    mode=\"auto\",\n",
        "    baseline=None,\n",
        "    restore_best_weights=False,\n",
        ")"
      ],
      "metadata": {
        "id": "v9Z50UwDNRCO"
      },
      "execution_count": 33,
      "outputs": []
    },
    {
      "cell_type": "code",
      "source": [
        "history=model.fit(x_train,y_train,validation_data=(x_test,y_test),epochs=2000,callbacks=callback)"
      ],
      "metadata": {
        "colab": {
          "base_uri": "https://localhost:8080/"
        },
        "id": "Bhxsj3M1NzOP",
        "outputId": "45e05213-2384-4ec0-a016-89594ca5e693"
      },
      "execution_count": 34,
      "outputs": [
        {
          "output_type": "stream",
          "name": "stdout",
          "text": [
            "Epoch 1/2000\n",
            "3/3 [==============================] - 0s 30ms/step - loss: 0.6678 - accuracy: 0.6000 - val_loss: 0.7202 - val_accuracy: 0.4000\n",
            "Epoch 2/2000\n",
            "3/3 [==============================] - 0s 17ms/step - loss: 0.6671 - accuracy: 0.6000 - val_loss: 0.7199 - val_accuracy: 0.4500\n",
            "Epoch 3/2000\n",
            "3/3 [==============================] - 0s 14ms/step - loss: 0.6664 - accuracy: 0.6125 - val_loss: 0.7186 - val_accuracy: 0.5000\n",
            "Epoch 4/2000\n",
            "3/3 [==============================] - 0s 13ms/step - loss: 0.6659 - accuracy: 0.6250 - val_loss: 0.7170 - val_accuracy: 0.5000\n",
            "Epoch 5/2000\n",
            "3/3 [==============================] - 0s 18ms/step - loss: 0.6651 - accuracy: 0.6250 - val_loss: 0.7162 - val_accuracy: 0.5000\n",
            "Epoch 6/2000\n",
            "3/3 [==============================] - 0s 16ms/step - loss: 0.6644 - accuracy: 0.6250 - val_loss: 0.7153 - val_accuracy: 0.5000\n",
            "Epoch 7/2000\n",
            "3/3 [==============================] - 0s 19ms/step - loss: 0.6637 - accuracy: 0.6375 - val_loss: 0.7145 - val_accuracy: 0.5000\n",
            "Epoch 8/2000\n",
            "3/3 [==============================] - 0s 19ms/step - loss: 0.6629 - accuracy: 0.6375 - val_loss: 0.7138 - val_accuracy: 0.5000\n",
            "Epoch 9/2000\n",
            "3/3 [==============================] - 0s 14ms/step - loss: 0.6627 - accuracy: 0.6250 - val_loss: 0.7130 - val_accuracy: 0.5500\n",
            "Epoch 10/2000\n",
            "3/3 [==============================] - 0s 14ms/step - loss: 0.6616 - accuracy: 0.6375 - val_loss: 0.7120 - val_accuracy: 0.5500\n",
            "Epoch 11/2000\n",
            "3/3 [==============================] - 0s 13ms/step - loss: 0.6609 - accuracy: 0.6375 - val_loss: 0.7109 - val_accuracy: 0.5500\n",
            "Epoch 12/2000\n",
            "3/3 [==============================] - 0s 14ms/step - loss: 0.6601 - accuracy: 0.6625 - val_loss: 0.7094 - val_accuracy: 0.5500\n",
            "Epoch 13/2000\n",
            "3/3 [==============================] - 0s 14ms/step - loss: 0.6595 - accuracy: 0.6500 - val_loss: 0.7085 - val_accuracy: 0.5500\n",
            "Epoch 14/2000\n",
            "3/3 [==============================] - 0s 15ms/step - loss: 0.6587 - accuracy: 0.6625 - val_loss: 0.7076 - val_accuracy: 0.5500\n",
            "Epoch 15/2000\n",
            "3/3 [==============================] - 0s 16ms/step - loss: 0.6583 - accuracy: 0.6500 - val_loss: 0.7080 - val_accuracy: 0.5500\n",
            "Epoch 16/2000\n",
            "3/3 [==============================] - 0s 15ms/step - loss: 0.6572 - accuracy: 0.6625 - val_loss: 0.7078 - val_accuracy: 0.5500\n",
            "Epoch 17/2000\n",
            "3/3 [==============================] - 0s 19ms/step - loss: 0.6562 - accuracy: 0.6625 - val_loss: 0.7074 - val_accuracy: 0.5500\n",
            "Epoch 18/2000\n",
            "3/3 [==============================] - 0s 15ms/step - loss: 0.6557 - accuracy: 0.6625 - val_loss: 0.7078 - val_accuracy: 0.5500\n",
            "Epoch 19/2000\n",
            "3/3 [==============================] - 0s 15ms/step - loss: 0.6546 - accuracy: 0.6375 - val_loss: 0.7089 - val_accuracy: 0.5500\n",
            "Epoch 20/2000\n",
            "3/3 [==============================] - 0s 26ms/step - loss: 0.6538 - accuracy: 0.6250 - val_loss: 0.7098 - val_accuracy: 0.5500\n",
            "Epoch 21/2000\n",
            "3/3 [==============================] - 0s 13ms/step - loss: 0.6530 - accuracy: 0.6250 - val_loss: 0.7100 - val_accuracy: 0.5500\n",
            "Epoch 22/2000\n",
            "3/3 [==============================] - 0s 13ms/step - loss: 0.6523 - accuracy: 0.6250 - val_loss: 0.7092 - val_accuracy: 0.5500\n",
            "Epoch 23/2000\n",
            "3/3 [==============================] - 0s 23ms/step - loss: 0.6511 - accuracy: 0.6500 - val_loss: 0.7080 - val_accuracy: 0.6000\n",
            "Epoch 24/2000\n",
            "3/3 [==============================] - 0s 17ms/step - loss: 0.6511 - accuracy: 0.6500 - val_loss: 0.7061 - val_accuracy: 0.6500\n",
            "Epoch 25/2000\n",
            "3/3 [==============================] - 0s 14ms/step - loss: 0.6496 - accuracy: 0.6750 - val_loss: 0.7045 - val_accuracy: 0.6500\n",
            "Epoch 26/2000\n",
            "3/3 [==============================] - 0s 17ms/step - loss: 0.6487 - accuracy: 0.7000 - val_loss: 0.7030 - val_accuracy: 0.7000\n",
            "Epoch 27/2000\n",
            "3/3 [==============================] - 0s 13ms/step - loss: 0.6479 - accuracy: 0.6875 - val_loss: 0.7018 - val_accuracy: 0.7000\n",
            "Epoch 28/2000\n",
            "3/3 [==============================] - 0s 14ms/step - loss: 0.6470 - accuracy: 0.6875 - val_loss: 0.7006 - val_accuracy: 0.6500\n",
            "Epoch 29/2000\n",
            "3/3 [==============================] - 0s 14ms/step - loss: 0.6464 - accuracy: 0.7000 - val_loss: 0.7003 - val_accuracy: 0.6500\n",
            "Epoch 30/2000\n",
            "3/3 [==============================] - 0s 14ms/step - loss: 0.6453 - accuracy: 0.6875 - val_loss: 0.6999 - val_accuracy: 0.6500\n",
            "Epoch 31/2000\n",
            "3/3 [==============================] - 0s 13ms/step - loss: 0.6446 - accuracy: 0.6750 - val_loss: 0.7000 - val_accuracy: 0.6500\n",
            "Epoch 32/2000\n",
            "3/3 [==============================] - 0s 13ms/step - loss: 0.6441 - accuracy: 0.6625 - val_loss: 0.7008 - val_accuracy: 0.6500\n",
            "Epoch 33/2000\n",
            "3/3 [==============================] - 0s 15ms/step - loss: 0.6424 - accuracy: 0.6875 - val_loss: 0.6998 - val_accuracy: 0.6500\n",
            "Epoch 34/2000\n",
            "3/3 [==============================] - 0s 27ms/step - loss: 0.6414 - accuracy: 0.6875 - val_loss: 0.6998 - val_accuracy: 0.6500\n",
            "Epoch 35/2000\n",
            "3/3 [==============================] - 0s 16ms/step - loss: 0.6405 - accuracy: 0.6875 - val_loss: 0.7010 - val_accuracy: 0.6500\n",
            "Epoch 36/2000\n",
            "3/3 [==============================] - 0s 17ms/step - loss: 0.6394 - accuracy: 0.7000 - val_loss: 0.7026 - val_accuracy: 0.6500\n",
            "Epoch 37/2000\n",
            "3/3 [==============================] - 0s 15ms/step - loss: 0.6390 - accuracy: 0.6875 - val_loss: 0.7045 - val_accuracy: 0.6000\n",
            "Epoch 38/2000\n",
            "3/3 [==============================] - 0s 16ms/step - loss: 0.6379 - accuracy: 0.6750 - val_loss: 0.7065 - val_accuracy: 0.6000\n",
            "Epoch 39/2000\n",
            "3/3 [==============================] - 0s 19ms/step - loss: 0.6372 - accuracy: 0.6625 - val_loss: 0.7076 - val_accuracy: 0.6000\n",
            "Epoch 40/2000\n",
            "3/3 [==============================] - 0s 15ms/step - loss: 0.6358 - accuracy: 0.6750 - val_loss: 0.7072 - val_accuracy: 0.6000\n",
            "Epoch 41/2000\n",
            "3/3 [==============================] - 0s 16ms/step - loss: 0.6348 - accuracy: 0.7000 - val_loss: 0.7044 - val_accuracy: 0.6000\n",
            "Epoch 42/2000\n",
            "3/3 [==============================] - 0s 15ms/step - loss: 0.6336 - accuracy: 0.7125 - val_loss: 0.7020 - val_accuracy: 0.6500\n",
            "Epoch 43/2000\n",
            "3/3 [==============================] - 0s 15ms/step - loss: 0.6328 - accuracy: 0.7125 - val_loss: 0.6995 - val_accuracy: 0.6500\n",
            "Epoch 44/2000\n",
            "3/3 [==============================] - 0s 15ms/step - loss: 0.6316 - accuracy: 0.7250 - val_loss: 0.6991 - val_accuracy: 0.7000\n",
            "Epoch 45/2000\n",
            "3/3 [==============================] - 0s 15ms/step - loss: 0.6307 - accuracy: 0.7250 - val_loss: 0.6975 - val_accuracy: 0.7000\n",
            "Epoch 46/2000\n",
            "3/3 [==============================] - 0s 16ms/step - loss: 0.6298 - accuracy: 0.7375 - val_loss: 0.6958 - val_accuracy: 0.6000\n",
            "Epoch 47/2000\n",
            "3/3 [==============================] - 0s 15ms/step - loss: 0.6283 - accuracy: 0.7500 - val_loss: 0.6930 - val_accuracy: 0.6000\n",
            "Epoch 48/2000\n",
            "3/3 [==============================] - 0s 19ms/step - loss: 0.6274 - accuracy: 0.7375 - val_loss: 0.6909 - val_accuracy: 0.6000\n",
            "Epoch 49/2000\n",
            "3/3 [==============================] - 0s 20ms/step - loss: 0.6264 - accuracy: 0.7375 - val_loss: 0.6899 - val_accuracy: 0.5500\n",
            "Epoch 50/2000\n",
            "3/3 [==============================] - 0s 17ms/step - loss: 0.6255 - accuracy: 0.7250 - val_loss: 0.6898 - val_accuracy: 0.5500\n",
            "Epoch 51/2000\n",
            "3/3 [==============================] - 0s 17ms/step - loss: 0.6245 - accuracy: 0.7375 - val_loss: 0.6894 - val_accuracy: 0.5500\n",
            "Epoch 52/2000\n",
            "3/3 [==============================] - 0s 17ms/step - loss: 0.6231 - accuracy: 0.7500 - val_loss: 0.6887 - val_accuracy: 0.6000\n",
            "Epoch 53/2000\n",
            "3/3 [==============================] - 0s 18ms/step - loss: 0.6223 - accuracy: 0.7750 - val_loss: 0.6873 - val_accuracy: 0.7000\n",
            "Epoch 54/2000\n",
            "3/3 [==============================] - 0s 16ms/step - loss: 0.6210 - accuracy: 0.7750 - val_loss: 0.6865 - val_accuracy: 0.7000\n",
            "Epoch 55/2000\n",
            "3/3 [==============================] - 0s 15ms/step - loss: 0.6196 - accuracy: 0.7750 - val_loss: 0.6865 - val_accuracy: 0.7000\n",
            "Epoch 56/2000\n",
            "3/3 [==============================] - 0s 15ms/step - loss: 0.6188 - accuracy: 0.7750 - val_loss: 0.6867 - val_accuracy: 0.7000\n",
            "Epoch 57/2000\n",
            "3/3 [==============================] - 0s 15ms/step - loss: 0.6173 - accuracy: 0.7750 - val_loss: 0.6852 - val_accuracy: 0.7000\n",
            "Epoch 58/2000\n",
            "3/3 [==============================] - 0s 14ms/step - loss: 0.6163 - accuracy: 0.7750 - val_loss: 0.6823 - val_accuracy: 0.7000\n",
            "Epoch 59/2000\n",
            "3/3 [==============================] - 0s 15ms/step - loss: 0.6152 - accuracy: 0.8000 - val_loss: 0.6809 - val_accuracy: 0.6500\n",
            "Epoch 60/2000\n",
            "3/3 [==============================] - 0s 17ms/step - loss: 0.6146 - accuracy: 0.8000 - val_loss: 0.6790 - val_accuracy: 0.6500\n",
            "Epoch 61/2000\n",
            "3/3 [==============================] - 0s 20ms/step - loss: 0.6132 - accuracy: 0.7875 - val_loss: 0.6790 - val_accuracy: 0.6500\n",
            "Epoch 62/2000\n",
            "3/3 [==============================] - 0s 17ms/step - loss: 0.6121 - accuracy: 0.8000 - val_loss: 0.6797 - val_accuracy: 0.7000\n",
            "Epoch 63/2000\n",
            "3/3 [==============================] - 0s 18ms/step - loss: 0.6107 - accuracy: 0.8000 - val_loss: 0.6810 - val_accuracy: 0.7000\n",
            "Epoch 64/2000\n",
            "3/3 [==============================] - 0s 15ms/step - loss: 0.6095 - accuracy: 0.7875 - val_loss: 0.6828 - val_accuracy: 0.7000\n",
            "Epoch 65/2000\n",
            "3/3 [==============================] - 0s 17ms/step - loss: 0.6083 - accuracy: 0.7875 - val_loss: 0.6855 - val_accuracy: 0.7000\n",
            "Epoch 66/2000\n",
            "3/3 [==============================] - 0s 16ms/step - loss: 0.6076 - accuracy: 0.7625 - val_loss: 0.6867 - val_accuracy: 0.7000\n",
            "Epoch 67/2000\n",
            "3/3 [==============================] - 0s 19ms/step - loss: 0.6058 - accuracy: 0.7625 - val_loss: 0.6858 - val_accuracy: 0.7000\n",
            "Epoch 68/2000\n",
            "3/3 [==============================] - 0s 16ms/step - loss: 0.6047 - accuracy: 0.7625 - val_loss: 0.6872 - val_accuracy: 0.6000\n",
            "Epoch 69/2000\n",
            "3/3 [==============================] - 0s 15ms/step - loss: 0.6037 - accuracy: 0.7875 - val_loss: 0.6870 - val_accuracy: 0.6000\n",
            "Epoch 70/2000\n",
            "3/3 [==============================] - 0s 15ms/step - loss: 0.6026 - accuracy: 0.8000 - val_loss: 0.6877 - val_accuracy: 0.6000\n",
            "Epoch 71/2000\n",
            "3/3 [==============================] - 0s 21ms/step - loss: 0.6014 - accuracy: 0.8000 - val_loss: 0.6878 - val_accuracy: 0.6000\n",
            "Epoch 72/2000\n",
            "3/3 [==============================] - 0s 15ms/step - loss: 0.6001 - accuracy: 0.7750 - val_loss: 0.6888 - val_accuracy: 0.6000\n",
            "Epoch 73/2000\n",
            "3/3 [==============================] - 0s 20ms/step - loss: 0.5992 - accuracy: 0.7625 - val_loss: 0.6881 - val_accuracy: 0.6000\n",
            "Epoch 74/2000\n",
            "3/3 [==============================] - 0s 16ms/step - loss: 0.5977 - accuracy: 0.7750 - val_loss: 0.6867 - val_accuracy: 0.6000\n",
            "Epoch 75/2000\n",
            "3/3 [==============================] - 0s 16ms/step - loss: 0.5968 - accuracy: 0.7750 - val_loss: 0.6837 - val_accuracy: 0.6000\n",
            "Epoch 76/2000\n",
            "3/3 [==============================] - 0s 19ms/step - loss: 0.5963 - accuracy: 0.7875 - val_loss: 0.6807 - val_accuracy: 0.7000\n",
            "Epoch 77/2000\n",
            "3/3 [==============================] - 0s 15ms/step - loss: 0.5941 - accuracy: 0.7875 - val_loss: 0.6823 - val_accuracy: 0.6000\n",
            "Epoch 78/2000\n",
            "3/3 [==============================] - 0s 16ms/step - loss: 0.5931 - accuracy: 0.8000 - val_loss: 0.6823 - val_accuracy: 0.6000\n",
            "Epoch 79/2000\n",
            "3/3 [==============================] - 0s 14ms/step - loss: 0.5920 - accuracy: 0.8000 - val_loss: 0.6814 - val_accuracy: 0.6000\n",
            "Epoch 80/2000\n",
            "3/3 [==============================] - 0s 17ms/step - loss: 0.5905 - accuracy: 0.8000 - val_loss: 0.6821 - val_accuracy: 0.6000\n"
          ]
        }
      ]
    },
    {
      "cell_type": "code",
      "source": [
        "plt.plot(history.history['loss'], label='train')\n",
        "plt.plot(history.history['val_loss'], label='test')\n",
        "plt.legend()\n",
        "plt.show()"
      ],
      "metadata": {
        "colab": {
          "base_uri": "https://localhost:8080/",
          "height": 265
        },
        "id": "XfxCZTkLODDz",
        "outputId": "4cfcc6b1-a1a9-4139-b0e0-4c3073ac82b7"
      },
      "execution_count": 35,
      "outputs": [
        {
          "output_type": "display_data",
          "data": {
            "text/plain": [
              "<Figure size 432x288 with 1 Axes>"
            ],
            "image/png": "[encoded data removed]"
          },
          "metadata": {
            "needs_background": "light"
          }
        }
      ]
    },
    {
      "cell_type": "code",
      "source": [
        "plot_decision_regions(x_test,y_test.ravel(),clf=model,legend=2)\n",
        "plt.show()"
      ],
      "metadata": {
        "colab": {
          "base_uri": "https://localhost:8080/",
          "height": 320
        },
        "id": "IcLamez8OHwk",
        "outputId": "8409973d-c843-4e2b-f555-a6018ef80fb6"
      },
      "execution_count": 36,
      "outputs": [
        {
          "output_type": "stream",
          "name": "stderr",
          "text": [
            "/usr/local/lib/python3.7/dist-packages/mlxtend/plotting/decision_regions.py:244: MatplotlibDeprecationWarning: Passing unsupported keyword arguments to axis() will raise a TypeError in 3.3.\n",
            "  ax.axis(xmin=xx.min(), xmax=xx.max(), y_min=yy.min(), y_max=yy.max())\n"
          ]
        },
        {
          "output_type": "display_data",
          "data": {
            "text/plain": [
              "<Figure size 432x288 with 1 Axes>"
            ],
            "image/png": "[encoded data removed]"
          },
          "metadata": {
            "needs_background": "light"
          }
        }
      ]
    }
  ]
}